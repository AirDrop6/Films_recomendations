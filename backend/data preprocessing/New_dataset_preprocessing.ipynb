{
 "cells": [
  {
   "cell_type": "markdown",
   "id": "283e3208-8307-43ff-8bfc-00f79ce0659c",
   "metadata": {},
   "source": [
    "# Создание и предобработка нового датасета и формирование Content-based рекомендаций\n",
    "\n",
    "Информация о фильмах была собрана с сайта Кинопоиск. В данных содержится 150 русских, 150 советских и 560 зарубежных фильмов"
   ]
  },
  {
   "cell_type": "code",
   "execution_count": 159,
   "id": "09b3beef-0f9a-4705-a27d-14d6a23bcc0b",
   "metadata": {},
   "outputs": [],
   "source": [
    "import pandas as pd\n",
    "import numpy as np\n",
    "import seaborn as sns\n",
    "import matplotlib.pyplot as plt"
   ]
  },
  {
   "cell_type": "markdown",
   "id": "e1c8f32f-6d7b-472a-9929-38ad99a07a1b",
   "metadata": {},
   "source": [
    "Cчитываем несколько файлов, в которые были собранны данные"
   ]
  },
  {
   "cell_type": "code",
   "execution_count": 160,
   "id": "31e09ada-16b7-42e7-a295-a23b95bb0654",
   "metadata": {},
   "outputs": [
    {
     "data": {
      "text/html": [
       "<div>\n",
       "<style scoped>\n",
       "    .dataframe tbody tr th:only-of-type {\n",
       "        vertical-align: middle;\n",
       "    }\n",
       "\n",
       "    .dataframe tbody tr th {\n",
       "        vertical-align: top;\n",
       "    }\n",
       "\n",
       "    .dataframe thead th {\n",
       "        text-align: right;\n",
       "    }\n",
       "</style>\n",
       "<table border=\"1\" class=\"dataframe\">\n",
       "  <thead>\n",
       "    <tr style=\"text-align: right;\">\n",
       "      <th></th>\n",
       "      <th>Poster_Link</th>\n",
       "      <th>Series_Title</th>\n",
       "      <th>Released_Year</th>\n",
       "      <th>Runtime</th>\n",
       "      <th>Genre</th>\n",
       "      <th>Rating</th>\n",
       "      <th>Overview</th>\n",
       "      <th>Director</th>\n",
       "      <th>Star1</th>\n",
       "      <th>Star2</th>\n",
       "    </tr>\n",
       "  </thead>\n",
       "  <tbody>\n",
       "    <tr>\n",
       "      <th>0</th>\n",
       "      <td>https://avatars.mds.yandex.net/get-kinopoisk-i...</td>\n",
       "      <td>Еретик</td>\n",
       "      <td>2024.0</td>\n",
       "      <td>1 ч 51 мин</td>\n",
       "      <td>триллер, ужасы</td>\n",
       "      <td>6.7</td>\n",
       "      <td>Церковная миссия приводит двух молодых мормоно...</td>\n",
       "      <td>Скотт Бек</td>\n",
       "      <td>Хью Грант</td>\n",
       "      <td>Софи Тэтчер</td>\n",
       "    </tr>\n",
       "    <tr>\n",
       "      <th>1</th>\n",
       "      <td>https://avatars.mds.yandex.net/get-kinopoisk-i...</td>\n",
       "      <td>Субстанция</td>\n",
       "      <td>2024.0</td>\n",
       "      <td>2 ч 21 мин</td>\n",
       "      <td>ужасы, драма</td>\n",
       "      <td>6.4</td>\n",
       "      <td>Слава голливудской звезды Элизабет Спаркл оста...</td>\n",
       "      <td>Корали Фаржа</td>\n",
       "      <td>Деми Мур</td>\n",
       "      <td>Маргарет Куолли</td>\n",
       "    </tr>\n",
       "    <tr>\n",
       "      <th>2</th>\n",
       "      <td>https://avatars.mds.yandex.net/get-kinopoisk-i...</td>\n",
       "      <td>Веном: Последний танец</td>\n",
       "      <td>2024.0</td>\n",
       "      <td>1 ч 50 мин</td>\n",
       "      <td>фантастика, боевик, ужасы</td>\n",
       "      <td>6.5</td>\n",
       "      <td>Приспособившись к совместному существованию, Э...</td>\n",
       "      <td>Келли Марсел</td>\n",
       "      <td>Том Харди</td>\n",
       "      <td>Джуно Темпл</td>\n",
       "    </tr>\n",
       "    <tr>\n",
       "      <th>3</th>\n",
       "      <td>https://avatars.mds.yandex.net/get-kinopoisk-i...</td>\n",
       "      <td>Ручная кладь</td>\n",
       "      <td>2024.0</td>\n",
       "      <td>1 ч 59 мин</td>\n",
       "      <td>боевик, триллер, криминал</td>\n",
       "      <td>6.5</td>\n",
       "      <td>Лос-Анджелес, рождественский день. Сотрудник с...</td>\n",
       "      <td>Жауме Кольет-Серра</td>\n",
       "      <td>Тэрон Эджертон</td>\n",
       "      <td>Джейсон Бейтман</td>\n",
       "    </tr>\n",
       "    <tr>\n",
       "      <th>4</th>\n",
       "      <td>https://avatars.mds.yandex.net/get-kinopoisk-i...</td>\n",
       "      <td>Анора</td>\n",
       "      <td>2024.0</td>\n",
       "      <td>2 ч 19 мин</td>\n",
       "      <td>драма, мелодрама, комедия</td>\n",
       "      <td>7.4</td>\n",
       "      <td>Молодая стриптизерша из Бруклина внезапно выхо...</td>\n",
       "      <td>Шон Бэйкер</td>\n",
       "      <td>Майки Мэдисон</td>\n",
       "      <td>Марк Эйдельштейн</td>\n",
       "    </tr>\n",
       "  </tbody>\n",
       "</table>\n",
       "</div>"
      ],
      "text/plain": [
       "                                         Poster_Link            Series_Title  \\\n",
       "0  https://avatars.mds.yandex.net/get-kinopoisk-i...                  Еретик   \n",
       "1  https://avatars.mds.yandex.net/get-kinopoisk-i...              Субстанция   \n",
       "2  https://avatars.mds.yandex.net/get-kinopoisk-i...  Веном: Последний танец   \n",
       "3  https://avatars.mds.yandex.net/get-kinopoisk-i...            Ручная кладь   \n",
       "4  https://avatars.mds.yandex.net/get-kinopoisk-i...                   Анора   \n",
       "\n",
       "   Released_Year     Runtime                      Genre Rating  \\\n",
       "0         2024.0  1 ч 51 мин             триллер, ужасы    6.7   \n",
       "1         2024.0  2 ч 21 мин               ужасы, драма    6.4   \n",
       "2         2024.0  1 ч 50 мин  фантастика, боевик, ужасы    6.5   \n",
       "3         2024.0  1 ч 59 мин  боевик, триллер, криминал    6.5   \n",
       "4         2024.0  2 ч 19 мин  драма, мелодрама, комедия    7.4   \n",
       "\n",
       "                                            Overview            Director  \\\n",
       "0  Церковная миссия приводит двух молодых мормоно...           Скотт Бек   \n",
       "1  Слава голливудской звезды Элизабет Спаркл оста...        Корали Фаржа   \n",
       "2  Приспособившись к совместному существованию, Э...        Келли Марсел   \n",
       "3  Лос-Анджелес, рождественский день. Сотрудник с...  Жауме Кольет-Серра   \n",
       "4  Молодая стриптизерша из Бруклина внезапно выхо...          Шон Бэйкер   \n",
       "\n",
       "            Star1             Star2  \n",
       "0       Хью Грант       Софи Тэтчер  \n",
       "1        Деми Мур   Маргарет Куолли  \n",
       "2       Том Харди       Джуно Темпл  \n",
       "3  Тэрон Эджертон   Джейсон Бейтман  \n",
       "4   Майки Мэдисон  Марк Эйдельштейн  "
      ]
     },
     "execution_count": 160,
     "metadata": {},
     "output_type": "execute_result"
    }
   ],
   "source": [
    "data_1 = pd.read_csv('datasets/kinopoisk/data_ru.csv')\n",
    "data_2 = pd.read_csv('datasets/kinopoisk/data_ussr.csv')\n",
    "data_3 = pd.read_csv('datasets/kinopoisk/data_foreign_1.csv')\n",
    "data_4 = pd.read_csv('datasets/kinopoisk/data_foreign_2.csv')\n",
    "data_5 = pd.read_csv('datasets/kinopoisk/data_foreign_3.csv')\n",
    "\n",
    "files = [data_3, data_4, data_5, data_1, data_2]\n",
    "\n",
    "data = pd.concat(files, ignore_index=True)\n",
    "data = data.drop(columns=['Unnamed: 0'])\n",
    "data.head()"
   ]
  },
  {
   "cell_type": "markdown",
   "id": "3d9b17b7-2787-4fcf-8cf6-d5782904ab64",
   "metadata": {},
   "source": [
    "Смотрим основную информацию о датасете и об пропусказ в нем"
   ]
  },
  {
   "cell_type": "code",
   "execution_count": 161,
   "id": "16f8ef59-6a3e-421f-90d3-9ae4028506f6",
   "metadata": {},
   "outputs": [
    {
     "name": "stdout",
     "output_type": "stream",
     "text": [
      "<class 'pandas.core.frame.DataFrame'>\n",
      "RangeIndex: 972 entries, 0 to 971\n",
      "Data columns (total 10 columns):\n",
      " #   Column         Non-Null Count  Dtype  \n",
      "---  ------         --------------  -----  \n",
      " 0   Poster_Link    928 non-null    object \n",
      " 1   Series_Title   928 non-null    object \n",
      " 2   Released_Year  928 non-null    float64\n",
      " 3   Runtime        928 non-null    object \n",
      " 4   Genre          928 non-null    object \n",
      " 5   Rating         928 non-null    object \n",
      " 6   Overview       919 non-null    object \n",
      " 7   Director       928 non-null    object \n",
      " 8   Star1          922 non-null    object \n",
      " 9   Star2          922 non-null    object \n",
      "dtypes: float64(1), object(9)\n",
      "memory usage: 76.1+ KB\n"
     ]
    }
   ],
   "source": [
    "data.info()"
   ]
  },
  {
   "cell_type": "code",
   "execution_count": 162,
   "id": "fa4924f8-b7ef-499a-b8ea-d1212a315c50",
   "metadata": {},
   "outputs": [
    {
     "data": {
      "text/plain": [
       "(972, 10)"
      ]
     },
     "execution_count": 162,
     "metadata": {},
     "output_type": "execute_result"
    }
   ],
   "source": [
    "data.shape"
   ]
  },
  {
   "cell_type": "markdown",
   "id": "281523ec-7775-4a0e-91a2-9f9e2c7ee880",
   "metadata": {},
   "source": [
    "Удаляем фильмы, для которых не было взято описание"
   ]
  },
  {
   "cell_type": "code",
   "execution_count": 163,
   "id": "6888dbc1-0285-46be-b2c9-09d3c9845a0f",
   "metadata": {},
   "outputs": [
    {
     "name": "stdout",
     "output_type": "stream",
     "text": [
      "<class 'pandas.core.frame.DataFrame'>\n",
      "RangeIndex: 919 entries, 0 to 918\n",
      "Data columns (total 11 columns):\n",
      " #   Column         Non-Null Count  Dtype  \n",
      "---  ------         --------------  -----  \n",
      " 0   index          919 non-null    int64  \n",
      " 1   Poster_Link    919 non-null    object \n",
      " 2   Series_Title   919 non-null    object \n",
      " 3   Released_Year  919 non-null    float64\n",
      " 4   Runtime        919 non-null    object \n",
      " 5   Genre          919 non-null    object \n",
      " 6   Rating         919 non-null    object \n",
      " 7   Overview       919 non-null    object \n",
      " 8   Director       919 non-null    object \n",
      " 9   Star1          913 non-null    object \n",
      " 10  Star2          913 non-null    object \n",
      "dtypes: float64(1), int64(1), object(9)\n",
      "memory usage: 79.1+ KB\n"
     ]
    }
   ],
   "source": [
    "data = data.dropna(subset=['Overview']).reset_index()\n",
    "data.info()"
   ]
  },
  {
   "cell_type": "markdown",
   "id": "b989ff1e-0059-4dda-8782-871985ce35ee",
   "metadata": {},
   "source": [
    "Вместо пропусков в значениях актеров у фильмов, где их нет (например анимации, мультфильмы), вставляем значения заглушки"
   ]
  },
  {
   "cell_type": "code",
   "execution_count": 164,
   "id": "48ae7e48-5d6c-4be1-bb12-c8e7ed37b247",
   "metadata": {},
   "outputs": [
    {
     "name": "stdout",
     "output_type": "stream",
     "text": [
      "<class 'pandas.core.frame.DataFrame'>\n",
      "RangeIndex: 919 entries, 0 to 918\n",
      "Data columns (total 11 columns):\n",
      " #   Column         Non-Null Count  Dtype  \n",
      "---  ------         --------------  -----  \n",
      " 0   index          919 non-null    int64  \n",
      " 1   Poster_Link    919 non-null    object \n",
      " 2   Series_Title   919 non-null    object \n",
      " 3   Released_Year  919 non-null    float64\n",
      " 4   Runtime        919 non-null    object \n",
      " 5   Genre          919 non-null    object \n",
      " 6   Rating         919 non-null    object \n",
      " 7   Overview       919 non-null    object \n",
      " 8   Director       919 non-null    object \n",
      " 9   Star1          919 non-null    object \n",
      " 10  Star2          919 non-null    object \n",
      "dtypes: float64(1), int64(1), object(9)\n",
      "memory usage: 79.1+ KB\n"
     ]
    }
   ],
   "source": [
    "data['Star1'] = data['Star1'].fillna('Нет')\n",
    "data['Star2'] = data['Star2'].fillna('Нет')\n",
    "data.info()"
   ]
  },
  {
   "cell_type": "markdown",
   "id": "22ca624a-bb03-4a7b-9e84-a32134714e22",
   "metadata": {},
   "source": [
    "Проверяем столбец с рейтингами фильмов на соответствие значениям и заменяем неверные значения на медианные"
   ]
  },
  {
   "cell_type": "code",
   "execution_count": 165,
   "id": "39bc18b2-8f18-49fd-bc43-ad92cb1d3fe3",
   "metadata": {},
   "outputs": [
    {
     "data": {
      "text/plain": [
       "array(['6.7', '6.4', '6.5', '7.4', '5.5', '6.6', '7.0', '7.1', '8.0',\n",
       "       '8.3', '7.3', '8.6', '8.7', '8.1', '6.9', '8.4', '7.9', '8.8', '–',\n",
       "       '8.5', '7.2', '5.8', '8.2', '6.2', '5.6', '7.8', '7.6', '7.7',\n",
       "       '5.9', '6.8', '5.3', '5.0', '6.3', '7.5', '9.1', '6.1', '5.4',\n",
       "       '5.2', '3.8', '6.0', '8.9', '5.7', '4.9', '5.1', '4.8', '4.2',\n",
       "       '4.6', 8.3, 7.1, 7.8, 8.2, 7.2, 7.7, 7.3, 6.8, 7.4, 6.6, 7.5, 8.0,\n",
       "       6.3, 6.9, 6.5, 8.1, 7.9, 5.9, 4.5, 8.5, 7.0, 5.6, 7.6, 6.2, 6.4,\n",
       "       5.8, 5.7, 6.7, 8.4, 6.0, 4.1, 5.4, 6.1, 8.8, 8.7, 8.6, 9.2],\n",
       "      dtype=object)"
      ]
     },
     "execution_count": 165,
     "metadata": {},
     "output_type": "execute_result"
    }
   ],
   "source": [
    "data['Rating'].unique()"
   ]
  },
  {
   "cell_type": "code",
   "execution_count": 166,
   "id": "009ef3ea-09d2-49c6-93dc-48ca745e19b3",
   "metadata": {},
   "outputs": [
    {
     "data": {
      "text/plain": [
       "12"
      ]
     },
     "execution_count": 166,
     "metadata": {},
     "output_type": "execute_result"
    }
   ],
   "source": [
    "data['Rating'].value_counts()['–']"
   ]
  },
  {
   "cell_type": "code",
   "execution_count": 167,
   "id": "e8eac7ae-d1ea-46b3-9cc5-9ac3120f40f8",
   "metadata": {},
   "outputs": [
    {
     "name": "stderr",
     "output_type": "stream",
     "text": [
      "C:\\Users\\AirDrop\\AppData\\Local\\Temp\\ipykernel_6880\\3705892660.py:2: FutureWarning: A value is trying to be set on a copy of a DataFrame or Series through chained assignment using an inplace method.\n",
      "The behavior will change in pandas 3.0. This inplace method will never work because the intermediate object on which we are setting values always behaves as a copy.\n",
      "\n",
      "For example, when doing 'df[col].method(value, inplace=True)', try using 'df.method({col: value}, inplace=True)' or df[col] = df[col].method(value) instead, to perform the operation inplace on the original object.\n",
      "\n",
      "\n",
      "  data['Rating'].replace({'–': rating_med}, inplace=True)\n"
     ]
    },
    {
     "data": {
      "text/plain": [
       "array(['6.7', '6.4', '6.5', '7.4', '5.5', '6.6', '7.0', '7.1', '8.0',\n",
       "       '8.3', '7.3', '8.6', '8.7', '8.1', '6.9', '8.4', '7.9', '8.8',\n",
       "       '7.7', '8.5', '7.2', '5.8', '8.2', '6.2', '5.6', '7.8', '7.6',\n",
       "       '5.9', '6.8', '5.3', '5.0', '6.3', '7.5', '9.1', '6.1', '5.4',\n",
       "       '5.2', '3.8', '6.0', '8.9', '5.7', '4.9', '5.1', '4.8', '4.2',\n",
       "       '4.6', 8.3, 7.1, 7.8, 8.2, 7.2, 7.7, 7.3, 6.8, 7.4, 6.6, 7.5, 8.0,\n",
       "       6.3, 6.9, 6.5, 8.1, 7.9, 5.9, 4.5, 8.5, 7.0, 5.6, 7.6, 6.2, 6.4,\n",
       "       5.8, 5.7, 6.7, 8.4, 6.0, 4.1, 5.4, 6.1, 8.8, 8.7, 8.6, 9.2],\n",
       "      dtype=object)"
      ]
     },
     "execution_count": 167,
     "metadata": {},
     "output_type": "execute_result"
    }
   ],
   "source": [
    "rating_med = str(data['Rating'].loc[data['Rating'] != '–'].astype('float64').median())\n",
    "data['Rating'].replace({'–': rating_med}, inplace=True)\n",
    "data['Rating'].unique()"
   ]
  },
  {
   "cell_type": "code",
   "execution_count": 168,
   "id": "823b4cd4-46f3-4a32-b8ef-73da12d77aff",
   "metadata": {},
   "outputs": [
    {
     "data": {
      "text/html": [
       "<div>\n",
       "<style scoped>\n",
       "    .dataframe tbody tr th:only-of-type {\n",
       "        vertical-align: middle;\n",
       "    }\n",
       "\n",
       "    .dataframe tbody tr th {\n",
       "        vertical-align: top;\n",
       "    }\n",
       "\n",
       "    .dataframe thead th {\n",
       "        text-align: right;\n",
       "    }\n",
       "</style>\n",
       "<table border=\"1\" class=\"dataframe\">\n",
       "  <thead>\n",
       "    <tr style=\"text-align: right;\">\n",
       "      <th></th>\n",
       "      <th>Poster_Link</th>\n",
       "      <th>Series_Title</th>\n",
       "      <th>Released_Year</th>\n",
       "      <th>Runtime</th>\n",
       "      <th>Genre</th>\n",
       "      <th>Rating</th>\n",
       "      <th>Overview</th>\n",
       "      <th>Director</th>\n",
       "      <th>Star1</th>\n",
       "      <th>Star2</th>\n",
       "    </tr>\n",
       "  </thead>\n",
       "  <tbody>\n",
       "    <tr>\n",
       "      <th>0</th>\n",
       "      <td>https://avatars.mds.yandex.net/get-kinopoisk-i...</td>\n",
       "      <td>Еретик</td>\n",
       "      <td>2024.0</td>\n",
       "      <td>1 ч 51 мин</td>\n",
       "      <td>триллер, ужасы</td>\n",
       "      <td>6.7</td>\n",
       "      <td>Церковная миссия приводит двух молодых мормоно...</td>\n",
       "      <td>Скотт Бек</td>\n",
       "      <td>Хью Грант</td>\n",
       "      <td>Софи Тэтчер</td>\n",
       "    </tr>\n",
       "    <tr>\n",
       "      <th>1</th>\n",
       "      <td>https://avatars.mds.yandex.net/get-kinopoisk-i...</td>\n",
       "      <td>Субстанция</td>\n",
       "      <td>2024.0</td>\n",
       "      <td>2 ч 21 мин</td>\n",
       "      <td>ужасы, драма</td>\n",
       "      <td>6.4</td>\n",
       "      <td>Слава голливудской звезды Элизабет Спаркл оста...</td>\n",
       "      <td>Корали Фаржа</td>\n",
       "      <td>Деми Мур</td>\n",
       "      <td>Маргарет Куолли</td>\n",
       "    </tr>\n",
       "    <tr>\n",
       "      <th>2</th>\n",
       "      <td>https://avatars.mds.yandex.net/get-kinopoisk-i...</td>\n",
       "      <td>Веном: Последний танец</td>\n",
       "      <td>2024.0</td>\n",
       "      <td>1 ч 50 мин</td>\n",
       "      <td>фантастика, боевик, ужасы</td>\n",
       "      <td>6.5</td>\n",
       "      <td>Приспособившись к совместному существованию, Э...</td>\n",
       "      <td>Келли Марсел</td>\n",
       "      <td>Том Харди</td>\n",
       "      <td>Джуно Темпл</td>\n",
       "    </tr>\n",
       "    <tr>\n",
       "      <th>3</th>\n",
       "      <td>https://avatars.mds.yandex.net/get-kinopoisk-i...</td>\n",
       "      <td>Ручная кладь</td>\n",
       "      <td>2024.0</td>\n",
       "      <td>1 ч 59 мин</td>\n",
       "      <td>боевик, триллер, криминал</td>\n",
       "      <td>6.5</td>\n",
       "      <td>Лос-Анджелес, рождественский день. Сотрудник с...</td>\n",
       "      <td>Жауме Кольет-Серра</td>\n",
       "      <td>Тэрон Эджертон</td>\n",
       "      <td>Джейсон Бейтман</td>\n",
       "    </tr>\n",
       "    <tr>\n",
       "      <th>4</th>\n",
       "      <td>https://avatars.mds.yandex.net/get-kinopoisk-i...</td>\n",
       "      <td>Анора</td>\n",
       "      <td>2024.0</td>\n",
       "      <td>2 ч 19 мин</td>\n",
       "      <td>драма, мелодрама, комедия</td>\n",
       "      <td>7.4</td>\n",
       "      <td>Молодая стриптизерша из Бруклина внезапно выхо...</td>\n",
       "      <td>Шон Бэйкер</td>\n",
       "      <td>Майки Мэдисон</td>\n",
       "      <td>Марк Эйдельштейн</td>\n",
       "    </tr>\n",
       "  </tbody>\n",
       "</table>\n",
       "</div>"
      ],
      "text/plain": [
       "                                         Poster_Link            Series_Title  \\\n",
       "0  https://avatars.mds.yandex.net/get-kinopoisk-i...                  Еретик   \n",
       "1  https://avatars.mds.yandex.net/get-kinopoisk-i...              Субстанция   \n",
       "2  https://avatars.mds.yandex.net/get-kinopoisk-i...  Веном: Последний танец   \n",
       "3  https://avatars.mds.yandex.net/get-kinopoisk-i...            Ручная кладь   \n",
       "4  https://avatars.mds.yandex.net/get-kinopoisk-i...                   Анора   \n",
       "\n",
       "   Released_Year     Runtime                      Genre Rating  \\\n",
       "0         2024.0  1 ч 51 мин             триллер, ужасы    6.7   \n",
       "1         2024.0  2 ч 21 мин               ужасы, драма    6.4   \n",
       "2         2024.0  1 ч 50 мин  фантастика, боевик, ужасы    6.5   \n",
       "3         2024.0  1 ч 59 мин  боевик, триллер, криминал    6.5   \n",
       "4         2024.0  2 ч 19 мин  драма, мелодрама, комедия    7.4   \n",
       "\n",
       "                                            Overview            Director  \\\n",
       "0  Церковная миссия приводит двух молодых мормоно...           Скотт Бек   \n",
       "1  Слава голливудской звезды Элизабет Спаркл оста...        Корали Фаржа   \n",
       "2  Приспособившись к совместному существованию, Э...        Келли Марсел   \n",
       "3  Лос-Анджелес, рождественский день. Сотрудник с...  Жауме Кольет-Серра   \n",
       "4  Молодая стриптизерша из Бруклина внезапно выхо...          Шон Бэйкер   \n",
       "\n",
       "            Star1             Star2  \n",
       "0       Хью Грант       Софи Тэтчер  \n",
       "1        Деми Мур   Маргарет Куолли  \n",
       "2       Том Харди       Джуно Темпл  \n",
       "3  Тэрон Эджертон   Джейсон Бейтман  \n",
       "4   Майки Мэдисон  Марк Эйдельштейн  "
      ]
     },
     "execution_count": 168,
     "metadata": {},
     "output_type": "execute_result"
    }
   ],
   "source": [
    "data=data.drop(columns=['index'])\n",
    "data.head()"
   ]
  },
  {
   "cell_type": "markdown",
   "id": "76652a18-6444-4c71-bd36-0b24e66f2bf1",
   "metadata": {},
   "source": [
    "Просматриваем данные на наличие повторных строк и удаляем дубликаты"
   ]
  },
  {
   "cell_type": "code",
   "execution_count": 169,
   "id": "5bfa0cac-b741-415d-85d7-e23a181d86ba",
   "metadata": {},
   "outputs": [
    {
     "data": {
      "text/plain": [
       "59"
      ]
     },
     "execution_count": 169,
     "metadata": {},
     "output_type": "execute_result"
    }
   ],
   "source": [
    "data.duplicated().sum()"
   ]
  },
  {
   "cell_type": "code",
   "execution_count": 170,
   "id": "fe0180c3-ae99-4a22-abbe-e83aa26ffb76",
   "metadata": {},
   "outputs": [
    {
     "name": "stdout",
     "output_type": "stream",
     "text": [
      "<class 'pandas.core.frame.DataFrame'>\n",
      "Index: 860 entries, 0 to 918\n",
      "Data columns (total 10 columns):\n",
      " #   Column         Non-Null Count  Dtype  \n",
      "---  ------         --------------  -----  \n",
      " 0   Poster_Link    860 non-null    object \n",
      " 1   Series_Title   860 non-null    object \n",
      " 2   Released_Year  860 non-null    float64\n",
      " 3   Runtime        860 non-null    object \n",
      " 4   Genre          860 non-null    object \n",
      " 5   Rating         860 non-null    object \n",
      " 6   Overview       860 non-null    object \n",
      " 7   Director       860 non-null    object \n",
      " 8   Star1          860 non-null    object \n",
      " 9   Star2          860 non-null    object \n",
      "dtypes: float64(1), object(9)\n",
      "memory usage: 73.9+ KB\n"
     ]
    }
   ],
   "source": [
    "data = data.drop_duplicates()\n",
    "data.info()"
   ]
  },
  {
   "cell_type": "markdown",
   "id": "f609497b-1461-4f71-a90c-5f9caecaecc1",
   "metadata": {},
   "source": [
    "Изменяем типы данных для столбцов года выпуска и рейтинга на числовые"
   ]
  },
  {
   "cell_type": "code",
   "execution_count": 171,
   "id": "662f1600-dd1a-43cf-baee-8d099f205692",
   "metadata": {},
   "outputs": [
    {
     "data": {
      "text/plain": [
       "Poster_Link       object\n",
       "Series_Title      object\n",
       "Released_Year      int64\n",
       "Runtime           object\n",
       "Genre             object\n",
       "Rating           float64\n",
       "Overview          object\n",
       "Director          object\n",
       "Star1             object\n",
       "Star2             object\n",
       "dtype: object"
      ]
     },
     "execution_count": 171,
     "metadata": {},
     "output_type": "execute_result"
    }
   ],
   "source": [
    "data['Released_Year'] = data['Released_Year'].astype('int64')\n",
    "data['Rating'] = data['Rating'].astype('float64')\n",
    "data.dtypes"
   ]
  },
  {
   "cell_type": "markdown",
   "id": "1b6960a2-5b3f-4d40-92f8-b9e95d8a7280",
   "metadata": {},
   "source": [
    "Визуально смотрим на датасет и радуемся =)"
   ]
  },
  {
   "cell_type": "code",
   "execution_count": 172,
   "id": "a3e4e4ea-45ed-4335-a9cd-8ff8e75deae0",
   "metadata": {},
   "outputs": [
    {
     "data": {
      "text/html": [
       "<div>\n",
       "<style scoped>\n",
       "    .dataframe tbody tr th:only-of-type {\n",
       "        vertical-align: middle;\n",
       "    }\n",
       "\n",
       "    .dataframe tbody tr th {\n",
       "        vertical-align: top;\n",
       "    }\n",
       "\n",
       "    .dataframe thead th {\n",
       "        text-align: right;\n",
       "    }\n",
       "</style>\n",
       "<table border=\"1\" class=\"dataframe\">\n",
       "  <thead>\n",
       "    <tr style=\"text-align: right;\">\n",
       "      <th></th>\n",
       "      <th>Poster_Link</th>\n",
       "      <th>Series_Title</th>\n",
       "      <th>Released_Year</th>\n",
       "      <th>Runtime</th>\n",
       "      <th>Genre</th>\n",
       "      <th>Rating</th>\n",
       "      <th>Overview</th>\n",
       "      <th>Director</th>\n",
       "      <th>Star1</th>\n",
       "      <th>Star2</th>\n",
       "    </tr>\n",
       "  </thead>\n",
       "  <tbody>\n",
       "    <tr>\n",
       "      <th>0</th>\n",
       "      <td>https://avatars.mds.yandex.net/get-kinopoisk-i...</td>\n",
       "      <td>Еретик</td>\n",
       "      <td>2024</td>\n",
       "      <td>1 ч 51 мин</td>\n",
       "      <td>триллер, ужасы</td>\n",
       "      <td>6.7</td>\n",
       "      <td>Церковная миссия приводит двух молодых мормоно...</td>\n",
       "      <td>Скотт Бек</td>\n",
       "      <td>Хью Грант</td>\n",
       "      <td>Софи Тэтчер</td>\n",
       "    </tr>\n",
       "    <tr>\n",
       "      <th>1</th>\n",
       "      <td>https://avatars.mds.yandex.net/get-kinopoisk-i...</td>\n",
       "      <td>Субстанция</td>\n",
       "      <td>2024</td>\n",
       "      <td>2 ч 21 мин</td>\n",
       "      <td>ужасы, драма</td>\n",
       "      <td>6.4</td>\n",
       "      <td>Слава голливудской звезды Элизабет Спаркл оста...</td>\n",
       "      <td>Корали Фаржа</td>\n",
       "      <td>Деми Мур</td>\n",
       "      <td>Маргарет Куолли</td>\n",
       "    </tr>\n",
       "    <tr>\n",
       "      <th>2</th>\n",
       "      <td>https://avatars.mds.yandex.net/get-kinopoisk-i...</td>\n",
       "      <td>Веном: Последний танец</td>\n",
       "      <td>2024</td>\n",
       "      <td>1 ч 50 мин</td>\n",
       "      <td>фантастика, боевик, ужасы</td>\n",
       "      <td>6.5</td>\n",
       "      <td>Приспособившись к совместному существованию, Э...</td>\n",
       "      <td>Келли Марсел</td>\n",
       "      <td>Том Харди</td>\n",
       "      <td>Джуно Темпл</td>\n",
       "    </tr>\n",
       "    <tr>\n",
       "      <th>3</th>\n",
       "      <td>https://avatars.mds.yandex.net/get-kinopoisk-i...</td>\n",
       "      <td>Ручная кладь</td>\n",
       "      <td>2024</td>\n",
       "      <td>1 ч 59 мин</td>\n",
       "      <td>боевик, триллер, криминал</td>\n",
       "      <td>6.5</td>\n",
       "      <td>Лос-Анджелес, рождественский день. Сотрудник с...</td>\n",
       "      <td>Жауме Кольет-Серра</td>\n",
       "      <td>Тэрон Эджертон</td>\n",
       "      <td>Джейсон Бейтман</td>\n",
       "    </tr>\n",
       "    <tr>\n",
       "      <th>4</th>\n",
       "      <td>https://avatars.mds.yandex.net/get-kinopoisk-i...</td>\n",
       "      <td>Анора</td>\n",
       "      <td>2024</td>\n",
       "      <td>2 ч 19 мин</td>\n",
       "      <td>драма, мелодрама, комедия</td>\n",
       "      <td>7.4</td>\n",
       "      <td>Молодая стриптизерша из Бруклина внезапно выхо...</td>\n",
       "      <td>Шон Бэйкер</td>\n",
       "      <td>Майки Мэдисон</td>\n",
       "      <td>Марк Эйдельштейн</td>\n",
       "    </tr>\n",
       "  </tbody>\n",
       "</table>\n",
       "</div>"
      ],
      "text/plain": [
       "                                         Poster_Link            Series_Title  \\\n",
       "0  https://avatars.mds.yandex.net/get-kinopoisk-i...                  Еретик   \n",
       "1  https://avatars.mds.yandex.net/get-kinopoisk-i...              Субстанция   \n",
       "2  https://avatars.mds.yandex.net/get-kinopoisk-i...  Веном: Последний танец   \n",
       "3  https://avatars.mds.yandex.net/get-kinopoisk-i...            Ручная кладь   \n",
       "4  https://avatars.mds.yandex.net/get-kinopoisk-i...                   Анора   \n",
       "\n",
       "   Released_Year     Runtime                      Genre  Rating  \\\n",
       "0           2024  1 ч 51 мин             триллер, ужасы     6.7   \n",
       "1           2024  2 ч 21 мин               ужасы, драма     6.4   \n",
       "2           2024  1 ч 50 мин  фантастика, боевик, ужасы     6.5   \n",
       "3           2024  1 ч 59 мин  боевик, триллер, криминал     6.5   \n",
       "4           2024  2 ч 19 мин  драма, мелодрама, комедия     7.4   \n",
       "\n",
       "                                            Overview            Director  \\\n",
       "0  Церковная миссия приводит двух молодых мормоно...           Скотт Бек   \n",
       "1  Слава голливудской звезды Элизабет Спаркл оста...        Корали Фаржа   \n",
       "2  Приспособившись к совместному существованию, Э...        Келли Марсел   \n",
       "3  Лос-Анджелес, рождественский день. Сотрудник с...  Жауме Кольет-Серра   \n",
       "4  Молодая стриптизерша из Бруклина внезапно выхо...          Шон Бэйкер   \n",
       "\n",
       "            Star1             Star2  \n",
       "0       Хью Грант       Софи Тэтчер  \n",
       "1        Деми Мур   Маргарет Куолли  \n",
       "2       Том Харди       Джуно Темпл  \n",
       "3  Тэрон Эджертон   Джейсон Бейтман  \n",
       "4   Майки Мэдисон  Марк Эйдельштейн  "
      ]
     },
     "execution_count": 172,
     "metadata": {},
     "output_type": "execute_result"
    }
   ],
   "source": [
    "data.head()"
   ]
  },
  {
   "cell_type": "markdown",
   "id": "d6f04498-635c-49e6-b209-a5619a636677",
   "metadata": {},
   "source": [
    "Количество фильмов по годам"
   ]
  },
  {
   "cell_type": "code",
   "execution_count": 173,
   "id": "546613bc-64a6-43eb-a849-9c3f606be4d1",
   "metadata": {},
   "outputs": [
    {
     "data": {
      "text/plain": [
       "Text(0.5, 1.0, 'Number of films by year')"
      ]
     },
     "execution_count": 173,
     "metadata": {},
     "output_type": "execute_result"
    },
    {
     "data": {
      "image/png": "[encoded data removed]",
      "text/plain": [
       "<Figure size 640x480 with 1 Axes>"
      ]
     },
     "metadata": {},
     "output_type": "display_data"
    }
   ],
   "source": [
    "year_agg = data.groupby(['Released_Year'], as_index=False)['Series_Title'].count()\n",
    "plt.bar(year_agg['Released_Year'], year_agg['Series_Title'])\n",
    "plt.xlabel('Years')\n",
    "plt.ylabel('Count')\n",
    "plt.title('Number of films by year')"
   ]
  },
  {
   "cell_type": "markdown",
   "id": "cb40e308-9eca-45cc-9627-bee912af3b7e",
   "metadata": {},
   "source": [
    "Распределение рейтингов фильмов"
   ]
  },
  {
   "cell_type": "code",
   "execution_count": 174,
   "id": "c11229fc-40b4-4910-b960-8376ad4b87e8",
   "metadata": {},
   "outputs": [
    {
     "data": {
      "image/png": "[encoded data removed]",
      "text/plain": [
       "<Figure size 640x480 with 1 Axes>"
      ]
     },
     "metadata": {},
     "output_type": "display_data"
    }
   ],
   "source": [
    "rating_agg = data.groupby(['Rating'], as_index=False)['Series_Title'].count()\n",
    "plt.plot(rating_agg['Rating'], rating_agg['Series_Title'])\n",
    "plt.xlabel('Rating')\n",
    "plt.ylabel('Count')\n",
    "plt.title('Ratings of films')\n",
    "plt.grid()"
   ]
  },
  {
   "cell_type": "markdown",
   "id": "be52c9a1-be71-4e18-814e-b13a6dd460cf",
   "metadata": {},
   "source": [
    "Средние рейтинги фильмов за разные года"
   ]
  },
  {
   "cell_type": "code",
   "execution_count": 175,
   "id": "bd31704d-87c4-4f51-9d56-35320e64b2b7",
   "metadata": {},
   "outputs": [
    {
     "data": {
      "image/png": "[encoded data removed]",
      "text/plain": [
       "<Figure size 640x480 with 1 Axes>"
      ]
     },
     "metadata": {},
     "output_type": "display_data"
    }
   ],
   "source": [
    "year_rating_agg = data.groupby(['Released_Year'], as_index=False)['Rating'].mean()\n",
    "plt.plot(year_rating_agg['Released_Year'], year_rating_agg['Rating'])\n",
    "plt.xlabel('Years')\n",
    "plt.ylabel('Mean Rating')\n",
    "plt.title('Mean ratin of films by year')\n",
    "plt.grid()"
   ]
  },
  {
   "cell_type": "markdown",
   "id": "49177433-817d-403a-aad4-ae995a8a5b23",
   "metadata": {},
   "source": [
    "Сохраняем датасет в файл"
   ]
  },
  {
   "cell_type": "code",
   "execution_count": 176,
   "id": "7539218f-3426-4698-863f-bdf677c05def",
   "metadata": {},
   "outputs": [],
   "source": [
    "# data.to_csv('kinopoisk_top_850.csv', sep=',', encoding='utf-8')"
   ]
  },
  {
   "cell_type": "markdown",
   "id": "296be198-feb7-42f2-a7f0-aa9e04aa2eee",
   "metadata": {},
   "source": [
    "Создаем рекомендационную систему и тестируем рекомендации"
   ]
  },
  {
   "cell_type": "code",
   "execution_count": 177,
   "id": "ea38ee58-80f6-43a6-8c70-aecfeea6a375",
   "metadata": {},
   "outputs": [],
   "source": [
    "import difflib\n",
    "from sklearn.feature_extraction.text import TfidfVectorizer\n",
    "from sklearn.metrics.pairwise import cosine_similarity\n",
    "from sklearn.feature_extraction.text import TfidfVectorizer, CountVectorizer\n",
    "from sklearn.metrics.pairwise import linear_kernel, cosine_similarity\n",
    "\n",
    "combined_features = data['Genre']+''+data['Director']+''+data['Star1']+''+data['Star2']+''+data['Overview']\n",
    "#combined_features = data['Genre']+''+data['Overview']\n",
    "\n",
    "vectorizer = TfidfVectorizer()\n",
    "feature_vectors = vectorizer.fit_transform(combined_features)\n"
   ]
  },
  {
   "cell_type": "code",
   "execution_count": 178,
   "id": "99127c73-2e77-4df6-ab36-e46e73d7eabe",
   "metadata": {},
   "outputs": [],
   "source": [
    "cosine_sim = linear_kernel(feature_vectors, feature_vectors)\n",
    "smd = data.reset_index()\n",
    "titles = smd['Series_Title']\n",
    "indices = pd.Series(smd.index, index=smd['Series_Title'])\n",
    "\n",
    "\n",
    "def get_recommendations(title):\n",
    "    idx = indices[title]\n",
    "    sim_scores = list(enumerate(cosine_sim[idx]))\n",
    "    sim_scores = sorted(sim_scores, key=lambda x: x[1], reverse=True)\n",
    "    \n",
    "    sim_scores = sim_scores[1:31]\n",
    "    movie_indices = [i[0] for i in sim_scores]\n",
    "    \n",
    "    movies = smd.iloc[movie_indices][['Series_Title', 'Rating']]\n",
    "    qualified = movies.sort_values(by=\"Rating\",ascending=False,axis=0).head(20)\n",
    "    return qualified\n"
   ]
  },
  {
   "cell_type": "code",
   "execution_count": 179,
   "id": "ff5c5e0d-e5cd-4321-baaf-38e893b3b09a",
   "metadata": {},
   "outputs": [
    {
     "data": {
      "text/html": [
       "<div>\n",
       "<style scoped>\n",
       "    .dataframe tbody tr th:only-of-type {\n",
       "        vertical-align: middle;\n",
       "    }\n",
       "\n",
       "    .dataframe tbody tr th {\n",
       "        vertical-align: top;\n",
       "    }\n",
       "\n",
       "    .dataframe thead th {\n",
       "        text-align: right;\n",
       "    }\n",
       "</style>\n",
       "<table border=\"1\" class=\"dataframe\">\n",
       "  <thead>\n",
       "    <tr style=\"text-align: right;\">\n",
       "      <th></th>\n",
       "      <th>Series_Title</th>\n",
       "      <th>Rating</th>\n",
       "    </tr>\n",
       "  </thead>\n",
       "  <tbody>\n",
       "    <tr>\n",
       "      <th>121</th>\n",
       "      <td>Побег из Шоушенка</td>\n",
       "      <td>9.1</td>\n",
       "    </tr>\n",
       "    <tr>\n",
       "      <th>211</th>\n",
       "      <td>Матрица</td>\n",
       "      <td>8.5</td>\n",
       "    </tr>\n",
       "    <tr>\n",
       "      <th>446</th>\n",
       "      <td>Прислуга</td>\n",
       "      <td>8.2</td>\n",
       "    </tr>\n",
       "    <tr>\n",
       "      <th>795</th>\n",
       "      <td>Свой среди чужих, чужой среди своих</td>\n",
       "      <td>8.2</td>\n",
       "    </tr>\n",
       "    <tr>\n",
       "      <th>252</th>\n",
       "      <td>Пятый элемент</td>\n",
       "      <td>8.1</td>\n",
       "    </tr>\n",
       "    <tr>\n",
       "      <th>234</th>\n",
       "      <td>Гордость и предубеждение</td>\n",
       "      <td>8.1</td>\n",
       "    </tr>\n",
       "    <tr>\n",
       "      <th>123</th>\n",
       "      <td>Малышка на миллион</td>\n",
       "      <td>8.1</td>\n",
       "    </tr>\n",
       "    <tr>\n",
       "      <th>277</th>\n",
       "      <td>Чужой</td>\n",
       "      <td>8.1</td>\n",
       "    </tr>\n",
       "    <tr>\n",
       "      <th>173</th>\n",
       "      <td>Аватар</td>\n",
       "      <td>8.0</td>\n",
       "    </tr>\n",
       "    <tr>\n",
       "      <th>124</th>\n",
       "      <td>Что гложет Гилберта Грейпа</td>\n",
       "      <td>7.9</td>\n",
       "    </tr>\n",
       "    <tr>\n",
       "      <th>356</th>\n",
       "      <td>Неспящие в Сиэттле</td>\n",
       "      <td>7.7</td>\n",
       "    </tr>\n",
       "    <tr>\n",
       "      <th>702</th>\n",
       "      <td>Салют-7</td>\n",
       "      <td>7.5</td>\n",
       "    </tr>\n",
       "    <tr>\n",
       "      <th>319</th>\n",
       "      <td>Не смотрите наверх</td>\n",
       "      <td>7.5</td>\n",
       "    </tr>\n",
       "    <tr>\n",
       "      <th>639</th>\n",
       "      <td>Конь Юлий и большие скачки</td>\n",
       "      <td>7.4</td>\n",
       "    </tr>\n",
       "    <tr>\n",
       "      <th>626</th>\n",
       "      <td>Мира</td>\n",
       "      <td>7.4</td>\n",
       "    </tr>\n",
       "    <tr>\n",
       "      <th>590</th>\n",
       "      <td>Конёк-Горбунок</td>\n",
       "      <td>7.3</td>\n",
       "    </tr>\n",
       "    <tr>\n",
       "      <th>297</th>\n",
       "      <td>Моя вина</td>\n",
       "      <td>7.2</td>\n",
       "    </tr>\n",
       "    <tr>\n",
       "      <th>247</th>\n",
       "      <td>Обливион</td>\n",
       "      <td>7.2</td>\n",
       "    </tr>\n",
       "    <tr>\n",
       "      <th>161</th>\n",
       "      <td>Полярный экспресс</td>\n",
       "      <td>7.2</td>\n",
       "    </tr>\n",
       "    <tr>\n",
       "      <th>650</th>\n",
       "      <td>Монах и бес</td>\n",
       "      <td>7.2</td>\n",
       "    </tr>\n",
       "  </tbody>\n",
       "</table>\n",
       "</div>"
      ],
      "text/plain": [
       "                            Series_Title  Rating\n",
       "121                    Побег из Шоушенка     9.1\n",
       "211                              Матрица     8.5\n",
       "446                             Прислуга     8.2\n",
       "795  Свой среди чужих, чужой среди своих     8.2\n",
       "252                        Пятый элемент     8.1\n",
       "234             Гордость и предубеждение     8.1\n",
       "123                   Малышка на миллион     8.1\n",
       "277                                Чужой     8.1\n",
       "173                               Аватар     8.0\n",
       "124           Что гложет Гилберта Грейпа     7.9\n",
       "356                   Неспящие в Сиэттле     7.7\n",
       "702                              Салют-7     7.5\n",
       "319                   Не смотрите наверх     7.5\n",
       "639           Конь Юлий и большие скачки     7.4\n",
       "626                                 Мира     7.4\n",
       "590                       Конёк-Горбунок     7.3\n",
       "297                             Моя вина     7.2\n",
       "247                             Обливион     7.2\n",
       "161                    Полярный экспресс     7.2\n",
       "650                          Монах и бес     7.2"
      ]
     },
     "execution_count": 179,
     "metadata": {},
     "output_type": "execute_result"
    }
   ],
   "source": [
    "get_recommendations('Чужой: Ромул')"
   ]
  },
  {
   "cell_type": "code",
   "execution_count": null,
   "id": "a2ba0391-20b6-4db9-bfce-328a87a789e0",
   "metadata": {},
   "outputs": [],
   "source": []
  }
 ],
 "metadata": {
  "kernelspec": {
   "display_name": "Python 3 (ipykernel)",
   "language": "python",
   "name": "python3"
  },
  "language_info": {
   "codemirror_mode": {
    "name": "ipython",
    "version": 3
   },
   "file_extension": ".py",
   "mimetype": "text/x-python",
   "name": "python",
   "nbconvert_exporter": "python",
   "pygments_lexer": "ipython3",
   "version": "3.12.4"
  }
 },
 "nbformat": 4,
 "nbformat_minor": 5
}
